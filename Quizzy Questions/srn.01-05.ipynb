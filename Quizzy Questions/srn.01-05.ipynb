{
 "cells": [
  {
   "cell_type": "markdown",
   "metadata": {},
   "source": [
    "Q1. Write a Python program to find a list of integers with exactly two occurrences of nineteen and at least three occurrences of five. Return True otherwise False."
   ]
  },
  {
   "cell_type": "code",
   "execution_count": 1,
   "metadata": {},
   "outputs": [
    {
     "name": "stdout",
     "output_type": "stream",
     "text": [
      "Original list:\n",
      "[19, 19, 15, 5, 3, 5, 5, 2]\n",
      "Check two occurrences of nineteen and at least three occurrences of five.\n",
      "True\n",
      "Original list:\n",
      "[19, 15, 15, 5, 3, 5, 5, 2]\n",
      "Check two occurrences of nineteen and at least three occurrences of five.\n",
      "False\n",
      "Original list:\n",
      "[19, 19, 15, 5, 5, 3, 5, 5, 2]\n",
      "Check two occurrences of nineteen and at least three occurrences of five.\n",
      "True\n"
     ]
    }
   ],
   "source": [
    "def test(nums):\n",
    "    return nums.count(19) == 2 and nums.count(5) >= 3\n",
    "nums = [19,19,15,5,3,5,5,2]\n",
    "print('Original list:')\n",
    "print(nums)\n",
    "print('Check two occurrences of nineteen and at least three occurrences of five.')\n",
    "print(test(nums))\n",
    "\n",
    "nums = [19,15,15,5,3,5,5,2]\n",
    "print('Original list:')\n",
    "print(nums)\n",
    "print('Check two occurrences of nineteen and at least three occurrences of five.')\n",
    "print(test(nums))\n",
    "\n",
    "nums = [19,19,15,5,5,3,5,5,2]\n",
    "print('Original list:')\n",
    "print(nums)\n",
    "print('Check two occurrences of nineteen and at least three occurrences of five.')\n",
    "print(test(nums))"
   ]
  },
  {
   "cell_type": "markdown",
   "metadata": {},
   "source": [
    "Q2. Write a Python program that accepts a list of integers and calculates the length and the fifth element. Return true if the length of the list is 8 and the fifth element occurs thrice in the said list."
   ]
  },
  {
   "cell_type": "code",
   "execution_count": 2,
   "metadata": {},
   "outputs": [
    {
     "name": "stdout",
     "output_type": "stream",
     "text": [
      "Original List:\n",
      "[19, 19, 15, 5, 5, 5, 3, 4]\n",
      "Check the length of the numbers is 8 or not and fifth element occurs thrice:\n",
      "True\n",
      "Original List:\n",
      "[19, 19, 15, 5, 8, 5, 3, 4]\n",
      "Check the length of the numbers is 8 or not and fifth element occurs thrice:\n",
      "False\n",
      "Original List:\n",
      "[19, 15, 5, 5, 5, 3, 4]\n",
      "Check the length of the numbers is 8 or not and fifth element occurs thrice:\n",
      "False\n"
     ]
    }
   ],
   "source": [
    "def test(nums):\n",
    "    return len(nums) == 8 and nums.count(nums[4]) == 3\n",
    "\n",
    "nums = [19,19,15,5,5,5,3,4]\n",
    "print(\"Original List:\")\n",
    "print(nums)\n",
    "print('Check the length of the numbers is 8 or not and fifth element occurs thrice:')\n",
    "print(test(nums))\n",
    "\n",
    "nums = [19,19,15,5,8,5,3,4]\n",
    "print(\"Original List:\")\n",
    "print(nums)\n",
    "print('Check the length of the numbers is 8 or not and fifth element occurs thrice:')\n",
    "print(test(nums))\n",
    "\n",
    "nums = [19,15,5,5,5,3,4]\n",
    "print(\"Original List:\")\n",
    "print(nums)\n",
    "print('Check the length of the numbers is 8 or not and fifth element occurs thrice:')\n",
    "print(test(nums))"
   ]
  },
  {
   "cell_type": "markdown",
   "metadata": {},
   "source": [
    "Q3. Write a Python program that accepts an integer and determines whether it is greater than 4^4 and which is 4 mod 34."
   ]
  },
  {
   "cell_type": "code",
   "execution_count": 3,
   "metadata": {},
   "outputs": [
    {
     "name": "stdout",
     "output_type": "stream",
     "text": [
      "Entered number : 654\n",
      "Entered number 654 satisfies the condition or not :\n",
      "False\n"
     ]
    }
   ],
   "source": [
    "def test(n):\n",
    "    return n % 34 == 4 and n > 4**4\n",
    "n = int(input('Enter the number : '))\n",
    "print(f'Entered number : {n}')\n",
    "print(f'Entered number {n} satisfies the condition or not :')\n",
    "print(test(n))    "
   ]
  },
  {
   "cell_type": "code",
   "execution_count": 6,
   "metadata": {},
   "outputs": [
    {
     "name": "stdout",
     "output_type": "stream",
     "text": [
      "Entered number : 922\n",
      "Entered number 922 satisfies the condition or not :\n",
      "True\n"
     ]
    }
   ],
   "source": [
    "def test(n):\n",
    "    return n % 34 == 4 and n > 4**4\n",
    "n = int(input('Enter the number : '))\n",
    "print(f'Entered number : {n}')\n",
    "print(f'Entered number {n} satisfies the condition or not :')\n",
    "print(test(n))"
   ]
  },
  {
   "cell_type": "markdown",
   "metadata": {},
   "source": [
    "Q4. We are making n stone piles! The first pile has n stones. If n is even, then all piles have an even number of stones. If n is odd, all piles have an odd number of stones. Each pile must more stones than the previous pile but as few as possible. Write a Python program to find the number of stones in each pile."
   ]
  },
  {
   "cell_type": "code",
   "execution_count": 9,
   "metadata": {},
   "outputs": [
    {
     "name": "stdout",
     "output_type": "stream",
     "text": [
      "Entered number : 10\n",
      "The piles of stones are in number of 10 \n",
      "[10, 12, 14, 16, 18, 20, 22, 24, 26, 28]\n"
     ]
    }
   ],
   "source": [
    "def test(n):\n",
    "    return [n + 2 * i for i in range(n)]\n",
    "\n",
    "n = int(input(\"Enter the number : \"))\n",
    "print(f'Entered number : {n}')\n",
    "print(f'The piles of stones are in number of {n} ')\n",
    "print(test(n))\n",
    "\n"
   ]
  },
  {
   "cell_type": "code",
   "execution_count": 10,
   "metadata": {},
   "outputs": [
    {
     "name": "stdout",
     "output_type": "stream",
     "text": [
      "Entered number : 20\n",
      "The piles of stones are in number of 20 \n",
      "[20, 22, 24, 26, 28, 30, 32, 34, 36, 38, 40, 42, 44, 46, 48, 50, 52, 54, 56, 58]\n"
     ]
    }
   ],
   "source": [
    "def test(n):\n",
    "    return [n + 2 * i for i in range(n)]\n",
    "\n",
    "n = int(input(\"Enter the number : \"))\n",
    "print(f'Entered number : {n}')\n",
    "print(f'The piles of stones are in number of {n} ')\n",
    "print(test(n))"
   ]
  },
  {
   "cell_type": "markdown",
   "metadata": {},
   "source": [
    "Q5. Write a Python program to check the nth^-1 string is a proper substring of the nth string in a given list of strings."
   ]
  },
  {
   "cell_type": "code",
   "execution_count": 11,
   "metadata": {},
   "outputs": [
    {
     "name": "stdout",
     "output_type": "stream",
     "text": [
      "Original List:\n",
      "['a', 'as', 'asd', 'asdf']\n",
      "Check whether it satisfies the condition or not.\n",
      "True\n"
     ]
    }
   ],
   "source": [
    "def test(str1):\n",
    "    return str1[len(str1)-2] in str1[len(str1)-1] and str1[len(str1)-2] != str1[len(str1)-1]\n",
    "\n",
    "str1 = ['a','as','asd','asdf',]\n",
    "print('Original List:')\n",
    "print(str1)\n",
    "print('Check whether it satisfies the condition or not.')\n",
    "print(test(str1))    "
   ]
  },
  {
   "cell_type": "code",
   "execution_count": 13,
   "metadata": {},
   "outputs": [
    {
     "name": "stdout",
     "output_type": "stream",
     "text": [
      "Entered string:hello\n",
      "Entered substring: o\n",
      "Yes substring is present!!!\n"
     ]
    }
   ],
   "source": [
    "string = input('Enter string : ')\n",
    "substring = input('Enter substring : ')\n",
    "\n",
    "print(f'Entered string:{string}')\n",
    "print(f'Entered substring:{substring}')\n",
    "\n",
    "if substring in string:\n",
    "    print('Yes substring is present!!!')\n",
    "else:\n",
    "    print('Substring is absent...')    "
   ]
  },
  {
   "cell_type": "code",
   "execution_count": null,
   "metadata": {},
   "outputs": [],
   "source": []
  }
 ],
 "metadata": {
  "kernelspec": {
   "display_name": "Python 3",
   "language": "python",
   "name": "python3"
  },
  "language_info": {
   "codemirror_mode": {
    "name": "ipython",
    "version": 3
   },
   "file_extension": ".py",
   "mimetype": "text/x-python",
   "name": "python",
   "nbconvert_exporter": "python",
   "pygments_lexer": "ipython3",
   "version": "3.12.0"
  }
 },
 "nbformat": 4,
 "nbformat_minor": 2
}
